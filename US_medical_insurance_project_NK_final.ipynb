{
 "cells": [
  {
   "cell_type": "markdown",
   "metadata": {},
   "source": [
    "# U.S. Medical Insurance Costs"
   ]
  },
  {
   "cell_type": "markdown",
   "metadata": {},
   "source": [
    "## Data set description \n",
    "We have been given the data set of the Medical Insurance records to analyze the set of parameters affecting the insurance costs or charges. There are 1339 lines in the dataset corresponding to the amount of client's records. Each client has the following parameters:\n",
    "<br><br> \n",
    "age - age of primary beneficiary <br>\n",
    "sex - insurance contractor gender, female, male <br>\n",
    "bmi - body mass index, providing an understanding of body, weights that are relatively high or low relative to height,\n",
    "objective index of body weight (kg / m ^ 2) using the ratio of height to weight, ideally 18.5 to 24.9 <br>\n",
    "children - Number of children covered by health insurance / Number of dependents <br>\n",
    "smoker - Smoking (yes/no) <br>\n",
    "region - the beneficiary's residential area in the US, northeast, southeast, southwest, northwest. <br>\n",
    "charges - Individual medical costs billed by health insurance <br>\n",
    "***\n",
    "## Data upload and pre-processing\n",
    "Let's explore the data first to check its validity and correctness."
   ]
  },
  {
   "cell_type": "code",
   "execution_count": 2,
   "metadata": {},
   "outputs": [
    {
     "name": "stdout",
     "output_type": "stream",
     "text": [
      "The number of records in US Medical Insurance clients list is:  1338 \n",
      "\n",
      "Here is the sampe of the first 5 records in the list:\n",
      "\n",
      "{'age': '19', 'sex': 'female', 'bmi': '27.9', 'children': '0', 'smoker': 'yes', 'region': 'southwest', 'charges': '16884.924', 'rec': 1}\n",
      "{'age': '18', 'sex': 'male', 'bmi': '33.77', 'children': '1', 'smoker': 'no', 'region': 'southeast', 'charges': '1725.5523', 'rec': 2}\n",
      "{'age': '28', 'sex': 'male', 'bmi': '33', 'children': '3', 'smoker': 'no', 'region': 'southeast', 'charges': '4449.462', 'rec': 3}\n",
      "{'age': '33', 'sex': 'male', 'bmi': '22.705', 'children': '0', 'smoker': 'no', 'region': 'northwest', 'charges': '21984.47061', 'rec': 4}\n",
      "{'age': '32', 'sex': 'male', 'bmi': '28.88', 'children': '0', 'smoker': 'no', 'region': 'northwest', 'charges': '3866.8552', 'rec': 5}\n"
     ]
    }
   ],
   "source": [
    "#importing csv module to read and convert csv file into the list of dictionaries with user data\n",
    "import csv\n",
    "ins_clients_list = []\n",
    "with open(\"insurance.csv\", newline = \"\") as ins_file:\n",
    "    ins_data = csv.DictReader(ins_file)\n",
    "    i = 0\n",
    "    for line in ins_data:    \n",
    "        i += 1\n",
    "        line[\"rec\"] = i # numerating the records to identify the duplicates, if any\n",
    "        ins_clients_list.append(line)\n",
    "\n",
    "print(\"The number of records in US Medical Insurance clients list is: \", len(ins_clients_list), \"\\n\")\n",
    "print(\"Here is the sampe of the first 5 records in the list:\\n\")\n",
    "\n",
    "for i in range(5):\n",
    "    print(ins_clients_list[i])"
   ]
  },
  {
   "cell_type": "code",
   "execution_count": 3,
   "metadata": {},
   "outputs": [
    {
     "name": "stdout",
     "output_type": "stream",
     "text": [
      "Number of None or Empty records  0 \n",
      "\n",
      "Duplicate records: \n",
      "\n",
      "{'age': 19, 'sex': 'male', 'bmi': 30.59, 'children': 0, 'smoker': 'no', 'region': 'northwest', 'charges': 1639.56, 'rec': 196}\n",
      "{'age': 19, 'sex': 'male', 'bmi': 30.59, 'children': 0, 'smoker': 'no', 'region': 'northwest', 'charges': 1639.56, 'rec': 582}\n"
     ]
    }
   ],
   "source": [
    "#Converting the numbers to numerical data types\n",
    "for client in ins_clients_list:\n",
    "    client[\"age\"] = int(client[\"age\"])\n",
    "    client[\"bmi\"] = float(client[\"bmi\"])\n",
    "    client[\"children\"] = int(client[\"children\"])\n",
    "    client[\"charges\"] = round(float(client[\"charges\"]), 2)\n",
    "    \n",
    "#Checking if there were any missing data while converting the csv data into dictionary.\n",
    "\n",
    "i = 0\n",
    "for client in ins_clients_list:\n",
    "    for key, value in client.items():\n",
    "        if key == None or value == None or key == \"\" or value == \"\":\n",
    "            print(client)\n",
    "            i += 1\n",
    "print(\"Number of None or Empty records \", i, \"\\n\")\n",
    "\n",
    "#Lets see if there are any duplicate values\n",
    "duplicate_numbers = [] #This list will ensure we have recorded only first occurance of the duplicates, if any.\n",
    "for client in ins_clients_list:\n",
    "    for dup_client in ins_clients_list:\n",
    "        if (client[\"rec\"] != dup_client[\"rec\"] and client[\"age\"] == dup_client[\"age\"] and client[\"bmi\"] == dup_client[\"bmi\"]  \n",
    "        and client[\"charges\"] == dup_client[\"charges\"] and (not dup_client[\"rec\"] in duplicate_numbers)):\n",
    "            duplicate_numbers.append(dup_client[\"rec\"])\n",
    "            duplicate_numbers.append(client[\"rec\"])\n",
    "            print(\"Duplicate records: \\n\")\n",
    "            print(client)\n",
    "            print(dup_client)"
   ]
  },
  {
   "cell_type": "markdown",
   "metadata": {},
   "source": [
    "There are only two records in the data set with absolutely same parameters. They might be a duplicates, but the influence of that amount of duplicates on the data set is neglectable. So we can leave them as is, since there is a small possibility that this records are independant."
   ]
  },
  {
   "cell_type": "markdown",
   "metadata": {},
   "source": [
    "## Project goal and question in hand\n",
    "### Goal: \n",
    "\n",
    "Define the most comfortable place for living in the US in terms of medical costs.  What is the cheapest and what is the most expensive region for medical expenses? How does the region affect the medical costs for all categories of clients? Hypotesys is that the most expensive region is the North West region due to overweight of the higher income population and higher medical prices. <br>\n",
    "\n",
    "### Limitations: \n",
    "Below is the conventional separation of the U.S. into five regions, including the Midwest region. It is not clear if Midwest states are completely omitted or could be part of another region. The limitation of the existing data set is that there are no data about other expenses and the median salary in the region to compare it with the affordable cost of the medical insurance. <br> The biggest limitation though is that it is not clear which health care plan is used by each person. The insurance costs may vary greately depending on the plan (Medicare, Deductables, employer insurance or self-paid). \n",
    "<img src=\"us_regions_map.png\" width=\"600\" />\n"
   ]
  },
  {
   "cell_type": "markdown",
   "metadata": {},
   "source": [
    "## Data Analysis"
   ]
  },
  {
   "cell_type": "code",
   "execution_count": 4,
   "metadata": {},
   "outputs": [
    {
     "name": "stdout",
     "output_type": "stream",
     "text": [
      "The distribution of the client records across the regions: \n",
      " {'southwest': 325, 'southeast': 364, 'northwest': 325, 'northeast': 324} \n",
      "\n"
     ]
    }
   ],
   "source": [
    "import matplotlib.pyplot as plt\n",
    "import statistics as stat\n",
    "\n",
    "# The next function will take the dictionary and form a new dictionary with the same keys, \n",
    "# but different values based on the certain parameter values (filtration)\n",
    "\n",
    "def dict_filter(dict, param, sign, param_value):\n",
    "    dict_filt = {} #The new dictionary to be filled in as a result of filtration.\n",
    "    for key in dict.keys():\n",
    "        dict_filt[key] = []\n",
    "        for client in dict[key]:\n",
    "            if sign == \"=\":\n",
    "                if client[param] == param_value:\n",
    "                    dict_filt[key].append(client)\n",
    "            elif sign == \">\":\n",
    "                if client[param] > param_value:\n",
    "                    dict_filt[key].append(client)\n",
    "            elif sign == \"<\":\n",
    "                if client[param] < param_value:\n",
    "                    dict_filt[key].append(client)\n",
    "    return dict_filt\n",
    "\n",
    "# This function will take a dictionary and create a new one with the given keys and the number of records from the input dict\n",
    "def number_of_rec(dict):\n",
    "    output_dict = {key:len(dict[key]) for key in dict.keys()}\n",
    "    return output_dict    \n",
    "\n",
    "#The next function will extract the list of the specified parameter values for each key-region from the regions_dict\n",
    "def get_param(dict, param):\n",
    "    param_dict = {}\n",
    "    for key in dict.keys(): #goes through the keys-regions in the dictionary\n",
    "        param_list = []\n",
    "        for client in dict[key]: #goes through the list of clients in the value-list\n",
    "            param_list.append(client[param]) #takes the certain parameter from each client and appends it to the list\n",
    "        param_dict[key] = param_list\n",
    "    return param_dict #returns the dict with keys-regions and dictionary values as a list of certain parameter values\n",
    "          \n",
    "#Next function will take the dictionary and print the basic statistical data based on the certain parameter values distribution\n",
    "def dict_stat(dict, param):\n",
    "    stat_dict = get_param(dict, param)\n",
    "    for key, value in stat_dict.items():\n",
    "        print(\"{} region statistical data on {}: \".format(key.title(), param), \"\\n\")\n",
    "        print(\"The mean value: \", round(stat.mean(value), 2))\n",
    "        print(\"The median value: \", round(stat.median(value), 2))\n",
    "        print(\"Standard deviation value: \", round(stat.stdev(value), 2))\n",
    "        print(\"The min value: \", round(min(value), 2))\n",
    "        print(\"The max value: \", round(max(value), 2), \"\\n\")\n",
    "    return None\n",
    "\n",
    "#Next function will create the histogram distribution plot for the certain parameter values in the given dictionary\n",
    "def region_dist_plots(dict, param, bins_range): \n",
    "    bins = [0]\n",
    "    for i in bins_range:\n",
    "        bins.append(i)    \n",
    "    dict_plots = get_param(dict, param)\n",
    "    for key, value in dict_plots.items():\n",
    "        plt.hist(value, bins)\n",
    "        plt.xticks(bins)\n",
    "        plt.title(\"Distribution of {} in {} region\".format(param, key.title()))\n",
    "        plt.grid(axis='x', alpha=0.2)\n",
    "        plt.grid(axis='y', alpha=0.2)\n",
    "        plt.show()\n",
    "        plt.close()\n",
    "\n",
    "# Group all the records into groups by the region name\n",
    "# This dictionary is going to be the primary source for the analysis\n",
    "regions_dict = {}\n",
    "for client in ins_clients_list:\n",
    "    if not client[\"region\"] in regions_dict.keys():\n",
    "        regions_dict[client[\"region\"]] = [client]\n",
    "    else:\n",
    "        regions_dict[client[\"region\"]].append(client)\n",
    "        \n",
    "print(\"The distribution of the client records across the regions: \\n\", number_of_rec(regions_dict), \"\\n\")"
   ]
  },
  {
   "cell_type": "code",
   "execution_count": 5,
   "metadata": {},
   "outputs": [
    {
     "name": "stdout",
     "output_type": "stream",
     "text": [
      "Southwest region statistical data on charges:  \n",
      "\n",
      "The mean value:  12346.94\n",
      "The median value:  8798.59\n",
      "Standard deviation value:  11557.18\n",
      "The min value:  1241.57\n",
      "The max value:  52590.83 \n",
      "\n",
      "Southeast region statistical data on charges:  \n",
      "\n",
      "The mean value:  14735.41\n",
      "The median value:  9294.13\n",
      "Standard deviation value:  13971.1\n",
      "The min value:  1121.87\n",
      "The max value:  63770.43 \n",
      "\n",
      "Northwest region statistical data on charges:  \n",
      "\n",
      "The mean value:  12417.58\n",
      "The median value:  8965.8\n",
      "Standard deviation value:  11072.28\n",
      "The min value:  1621.34\n",
      "The max value:  60021.4 \n",
      "\n",
      "Northeast region statistical data on charges:  \n",
      "\n",
      "The mean value:  13406.38\n",
      "The median value:  10057.65\n",
      "Standard deviation value:  11255.8\n",
      "The min value:  1694.8\n",
      "The max value:  58571.07 \n",
      "\n"
     ]
    }
   ],
   "source": [
    "dict_stat(regions_dict, \"charges\")"
   ]
  },
  {
   "cell_type": "markdown",
   "metadata": {},
   "source": [
    "Looks like our initial hypothesis about the North regions being more expensive was not correct (at least at the first glance). The mean values in the northen regions are more or less the same or even lower than in the south regions. But if we look at the difference between mean and the median values we can see that for all the regions the median value is lower than the mean value and that for Southeast region the difference between the two is the biggest. That means there are few people on the right sight of the distribution with significantly higher charges, who affect the average values and move them on the right side of the mean. Probably for the Southeast region the number of such people is higher. \n",
    "Let's try to look at the actual distribution plots in more details."
   ]
  },
  {
   "cell_type": "code",
   "execution_count": 72,
   "metadata": {},
   "outputs": [
    {
     "data": {
      "image/png": "[encoded data removed]",
      "text/plain": [
       "<Figure size 432x288 with 1 Axes>"
      ]
     },
     "metadata": {
      "needs_background": "light"
     },
     "output_type": "display_data"
    },
    {
     "data": {
      "image/png": "[encoded data removed]",
      "text/plain": [
       "<Figure size 432x288 with 1 Axes>"
      ]
     },
     "metadata": {
      "needs_background": "light"
     },
     "output_type": "display_data"
    },
    {
     "data": {
      "image/png": "[encoded data removed]",
      "text/plain": [
       "<Figure size 432x288 with 1 Axes>"
      ]
     },
     "metadata": {
      "needs_background": "light"
     },
     "output_type": "display_data"
    },
    {
     "data": {
      "image/png": "[encoded data removed]",
      "text/plain": [
       "<Figure size 432x288 with 1 Axes>"
      ]
     },
     "metadata": {
      "needs_background": "light"
     },
     "output_type": "display_data"
    }
   ],
   "source": [
    "region_dist_plots(regions_dict, \"charges\", range(5000, 55000, 5000))"
   ]
  },
  {
   "cell_type": "markdown",
   "metadata": {},
   "source": [
    "Now let's find who are these people on the right side of the plots in different regions. We will look at the customers with charges over 25 000 (more than 1 standard deviation) "
   ]
  },
  {
   "cell_type": "code",
   "execution_count": 73,
   "metadata": {},
   "outputs": [
    {
     "name": "stdout",
     "output_type": "stream",
     "text": [
      "Southwest \n",
      "\n",
      "{'age': 30, 'sex': 'male', 'bmi': 35.3, 'children': 0, 'smoker': 'yes', 'region': 'southwest', 'charges': 36837.47, 'rec': 20} \n",
      "\n",
      "{'age': 31, 'sex': 'male', 'bmi': 36.3, 'children': 2, 'smoker': 'yes', 'region': 'southwest', 'charges': 38711.0, 'rec': 30} \n",
      "\n",
      "{'age': 22, 'sex': 'male', 'bmi': 35.6, 'children': 0, 'smoker': 'yes', 'region': 'southwest', 'charges': 35585.58, 'rec': 31} \n",
      "\n",
      "{'age': 28, 'sex': 'male', 'bmi': 36.4, 'children': 1, 'smoker': 'yes', 'region': 'southwest', 'charges': 51194.56, 'rec': 35} \n",
      "\n",
      "{'age': 60, 'sex': 'male', 'bmi': 39.9, 'children': 0, 'smoker': 'yes', 'region': 'southwest', 'charges': 48173.36, 'rec': 40} \n",
      "\n",
      "{'age': 37, 'sex': 'female', 'bmi': 34.8, 'children': 2, 'smoker': 'yes', 'region': 'southwest', 'charges': 39836.52, 'rec': 85} \n",
      "\n",
      "{'age': 64, 'sex': 'female', 'bmi': 31.3, 'children': 2, 'smoker': 'yes', 'region': 'southwest', 'charges': 47291.06, 'rec': 95} \n",
      "\n",
      "{'age': 63, 'sex': 'female', 'bmi': 37.7, 'children': 0, 'smoker': 'yes', 'region': 'southwest', 'charges': 48824.45, 'rec': 176} \n",
      "\n",
      "{'age': 19, 'sex': 'male', 'bmi': 34.8, 'children': 0, 'smoker': 'yes', 'region': 'southwest', 'charges': 34779.61, 'rec': 224} \n",
      "\n",
      "{'age': 55, 'sex': 'female', 'bmi': 26.8, 'children': 1, 'smoker': 'no', 'region': 'southwest', 'charges': 35160.13, 'rec': 243} \n",
      "\n",
      "{'age': 63, 'sex': 'female', 'bmi': 32.2, 'children': 2, 'smoker': 'yes', 'region': 'southwest', 'charges': 47305.31, 'rec': 252} \n",
      "\n",
      "{'age': 50, 'sex': 'male', 'bmi': 34.2, 'children': 2, 'smoker': 'yes', 'region': 'southwest', 'charges': 42856.84, 'rec': 272} \n",
      "\n",
      "{'age': 27, 'sex': 'female', 'bmi': 31.4, 'children': 0, 'smoker': 'yes', 'region': 'southwest', 'charges': 34838.87, 'rec': 315} \n",
      "\n",
      "{'age': 34, 'sex': 'male', 'bmi': 30.8, 'children': 0, 'smoker': 'yes', 'region': 'southwest', 'charges': 35491.64, 'rec': 323} \n",
      "\n",
      "{'age': 64, 'sex': 'female', 'bmi': 33.8, 'children': 1, 'smoker': 'yes', 'region': 'southwest', 'charges': 47928.03, 'rec': 329} \n",
      "\n",
      "{'age': 26, 'sex': 'male', 'bmi': 32.9, 'children': 2, 'smoker': 'yes', 'region': 'southwest', 'charges': 36085.22, 'rec': 374} \n",
      "\n",
      "{'age': 33, 'sex': 'female', 'bmi': 33.5, 'children': 0, 'smoker': 'yes', 'region': 'southwest', 'charges': 37079.37, 'rec': 442} \n",
      "\n",
      "{'age': 54, 'sex': 'male', 'bmi': 25.1, 'children': 3, 'smoker': 'yes', 'region': 'southwest', 'charges': 25382.3, 'rec': 475} \n",
      "\n",
      "{'age': 29, 'sex': 'male', 'bmi': 34.4, 'children': 0, 'smoker': 'yes', 'region': 'southwest', 'charges': 36197.7, 'rec': 501} \n",
      "\n",
      "{'age': 30, 'sex': 'male', 'bmi': 37.8, 'children': 2, 'smoker': 'yes', 'region': 'southwest', 'charges': 39241.44, 'rec': 610} \n",
      "\n",
      "{'age': 37, 'sex': 'male', 'bmi': 34.1, 'children': 4, 'smoker': 'yes', 'region': 'southwest', 'charges': 40182.25, 'rec': 622} \n",
      "\n",
      "{'age': 39, 'sex': 'male', 'bmi': 35.3, 'children': 2, 'smoker': 'yes', 'region': 'southwest', 'charges': 40103.89, 'rec': 683} \n",
      "\n",
      "{'age': 47, 'sex': 'female', 'bmi': 24.1, 'children': 1, 'smoker': 'no', 'region': 'southwest', 'charges': 26236.58, 'rec': 689} \n",
      "\n",
      "{'age': 29, 'sex': 'male', 'bmi': 35.5, 'children': 2, 'smoker': 'yes', 'region': 'southwest', 'charges': 44585.46, 'rec': 740} \n",
      "\n",
      "{'age': 61, 'sex': 'male', 'bmi': 36.1, 'children': 3, 'smoker': 'no', 'region': 'southwest', 'charges': 27941.29, 'rec': 771} \n",
      "\n",
      "{'age': 37, 'sex': 'female', 'bmi': 47.6, 'children': 2, 'smoker': 'yes', 'region': 'southwest', 'charges': 46113.51, 'rec': 861} \n",
      "\n",
      "{'age': 49, 'sex': 'female', 'bmi': 27.1, 'children': 1, 'smoker': 'no', 'region': 'southwest', 'charges': 26140.36, 'rec': 877} \n",
      "\n",
      "{'age': 44, 'sex': 'male', 'bmi': 30.2, 'children': 2, 'smoker': 'yes', 'region': 'southwest', 'charges': 38998.55, 'rec': 954} \n",
      "\n",
      "{'age': 24, 'sex': 'male', 'bmi': 32.7, 'children': 0, 'smoker': 'yes', 'region': 'southwest', 'charges': 34472.84, 'rec': 1002} \n",
      "\n",
      "{'age': 49, 'sex': 'male', 'bmi': 30.9, 'children': 0, 'smoker': 'yes', 'region': 'southwest', 'charges': 39727.61, 'rec': 1050} \n",
      "\n",
      "{'age': 47, 'sex': 'male', 'bmi': 29.8, 'children': 3, 'smoker': 'yes', 'region': 'southwest', 'charges': 25309.49, 'rec': 1054} \n",
      "\n",
      "{'age': 23, 'sex': 'female', 'bmi': 31.4, 'children': 0, 'smoker': 'yes', 'region': 'southwest', 'charges': 34166.27, 'rec': 1121} \n",
      "\n",
      "{'age': 60, 'sex': 'male', 'bmi': 32.8, 'children': 0, 'smoker': 'yes', 'region': 'southwest', 'charges': 52590.83, 'rec': 1147} \n",
      "\n",
      "{'age': 59, 'sex': 'female', 'bmi': 34.8, 'children': 2, 'smoker': 'no', 'region': 'southwest', 'charges': 36910.61, 'rec': 1207} \n",
      "\n",
      "{'age': 36, 'sex': 'male', 'bmi': 33.4, 'children': 2, 'smoker': 'yes', 'region': 'southwest', 'charges': 38415.47, 'rec': 1208} \n",
      "\n",
      "{'age': 46, 'sex': 'female', 'bmi': 34.6, 'children': 1, 'smoker': 'yes', 'region': 'southwest', 'charges': 41661.6, 'rec': 1219} \n",
      "\n",
      "{'age': 61, 'sex': 'male', 'bmi': 36.3, 'children': 1, 'smoker': 'yes', 'region': 'southwest', 'charges': 47403.88, 'rec': 1285} \n",
      "\n",
      "{'age': 20, 'sex': 'male', 'bmi': 39.4, 'children': 2, 'smoker': 'yes', 'region': 'southwest', 'charges': 38344.57, 'rec': 1289} \n",
      "\n",
      "{'age': 19, 'sex': 'male', 'bmi': 34.9, 'children': 0, 'smoker': 'yes', 'region': 'southwest', 'charges': 34828.65, 'rec': 1292} \n",
      "\n",
      "{'age': 43, 'sex': 'male', 'bmi': 27.8, 'children': 0, 'smoker': 'yes', 'region': 'southwest', 'charges': 37829.72, 'rec': 1304} \n",
      "\n",
      "{'age': 25, 'sex': 'female', 'bmi': 30.2, 'children': 0, 'smoker': 'yes', 'region': 'southwest', 'charges': 33900.65, 'rec': 1309} \n",
      "\n",
      "{'age': 19, 'sex': 'female', 'bmi': 34.7, 'children': 2, 'smoker': 'yes', 'region': 'southwest', 'charges': 36397.58, 'rec': 1314} \n",
      "\n",
      "Southeast \n",
      "\n",
      "{'age': 62, 'sex': 'female', 'bmi': 26.29, 'children': 0, 'smoker': 'yes', 'region': 'southeast', 'charges': 27808.73, 'rec': 12} \n",
      "\n",
      "{'age': 27, 'sex': 'male', 'bmi': 42.13, 'children': 0, 'smoker': 'yes', 'region': 'southeast', 'charges': 39611.76, 'rec': 15} \n",
      "\n",
      "{'age': 36, 'sex': 'male', 'bmi': 35.2, 'children': 1, 'smoker': 'yes', 'region': 'southeast', 'charges': 38709.18, 'rec': 50} \n",
      "\n",
      "{'age': 36, 'sex': 'male', 'bmi': 34.43, 'children': 0, 'smoker': 'yes', 'region': 'southeast', 'charges': 37742.58, 'rec': 54} \n",
      "\n",
      "{'age': 18, 'sex': 'male', 'bmi': 31.68, 'children': 2, 'smoker': 'yes', 'region': 'southeast', 'charges': 34303.17, 'rec': 58} \n",
      "\n",
      "{'age': 22, 'sex': 'male', 'bmi': 37.62, 'children': 1, 'smoker': 'yes', 'region': 'southeast', 'charges': 37165.16, 'rec': 83} \n",
      "\n",
      "{'age': 61, 'sex': 'female', 'bmi': 29.92, 'children': 3, 'smoker': 'yes', 'region': 'southeast', 'charges': 30942.19, 'rec': 104} \n",
      "\n",
      "{'age': 63, 'sex': 'male', 'bmi': 35.09, 'children': 0, 'smoker': 'yes', 'region': 'southeast', 'charges': 47055.53, 'rec': 110} \n",
      "\n",
      "{'age': 54, 'sex': 'female', 'bmi': 31.9, 'children': 3, 'smoker': 'no', 'region': 'southeast', 'charges': 27322.73, 'rec': 139} \n",
      "\n",
      "{'age': 30, 'sex': 'male', 'bmi': 35.53, 'children': 0, 'smoker': 'yes', 'region': 'southeast', 'charges': 36950.26, 'rec': 159} \n",
      "\n",
      "{'age': 18, 'sex': 'female', 'bmi': 36.85, 'children': 0, 'smoker': 'yes', 'region': 'southeast', 'charges': 36149.48, 'rec': 162} \n",
      "\n",
      "{'age': 27, 'sex': 'female', 'bmi': 36.08, 'children': 0, 'smoker': 'yes', 'region': 'southeast', 'charges': 37133.9, 'rec': 204} \n",
      "\n",
      "{'age': 24, 'sex': 'female', 'bmi': 23.21, 'children': 0, 'smoker': 'no', 'region': 'southeast', 'charges': 25081.77, 'rec': 220} \n",
      "\n",
      "{'age': 54, 'sex': 'male', 'bmi': 34.21, 'children': 2, 'smoker': 'yes', 'region': 'southeast', 'charges': 44260.75, 'rec': 253} \n",
      "\n",
      "{'age': 46, 'sex': 'male', 'bmi': 42.35, 'children': 3, 'smoker': 'yes', 'region': 'southeast', 'charges': 46151.12, 'rec': 266} \n",
      "\n",
      "{'age': 52, 'sex': 'male', 'bmi': 26.4, 'children': 3, 'smoker': 'no', 'region': 'southeast', 'charges': 25992.82, 'rec': 290} \n",
      "\n",
      "{'age': 25, 'sex': 'male', 'bmi': 45.54, 'children': 2, 'smoker': 'yes', 'region': 'southeast', 'charges': 42112.24, 'rec': 293} \n",
      "\n",
      "{'age': 43, 'sex': 'male', 'bmi': 35.97, 'children': 3, 'smoker': 'yes', 'region': 'southeast', 'charges': 42124.52, 'rec': 313} \n",
      "\n",
      "{'age': 24, 'sex': 'male', 'bmi': 40.15, 'children': 0, 'smoker': 'yes', 'region': 'southeast', 'charges': 38126.25, 'rec': 378} \n",
      "\n",
      "{'age': 62, 'sex': 'male', 'bmi': 31.46, 'children': 1, 'smoker': 'no', 'region': 'southeast', 'charges': 27000.98, 'rec': 380} \n",
      "\n",
      "{'age': 64, 'sex': 'male', 'bmi': 33.88, 'children': 0, 'smoker': 'yes', 'region': 'southeast', 'charges': 46889.26, 'rec': 421} \n",
      "\n",
      "{'age': 61, 'sex': 'male', 'bmi': 35.86, 'children': 0, 'smoker': 'yes', 'region': 'southeast', 'charges': 46599.11, 'rec': 422} \n",
      "\n",
      "{'age': 59, 'sex': 'female', 'bmi': 36.52, 'children': 1, 'smoker': 'no', 'region': 'southeast', 'charges': 28287.9, 'rec': 444} \n",
      "\n",
      "{'age': 44, 'sex': 'female', 'bmi': 38.06, 'children': 0, 'smoker': 'yes', 'region': 'southeast', 'charges': 48885.14, 'rec': 489} \n",
      "\n",
      "{'age': 19, 'sex': 'male', 'bmi': 30.25, 'children': 0, 'smoker': 'yes', 'region': 'southeast', 'charges': 32548.34, 'rec': 504} \n",
      "\n",
      "{'age': 20, 'sex': 'male', 'bmi': 35.31, 'children': 1, 'smoker': 'no', 'region': 'southeast', 'charges': 27724.29, 'rec': 517} \n",
      "\n",
      "{'age': 42, 'sex': 'male', 'bmi': 26.07, 'children': 1, 'smoker': 'yes', 'region': 'southeast', 'charges': 38245.59, 'rec': 525} \n",
      "\n",
      "{'age': 57, 'sex': 'male', 'bmi': 42.13, 'children': 1, 'smoker': 'yes', 'region': 'southeast', 'charges': 48675.52, 'rec': 531} \n",
      "\n",
      "{'age': 53, 'sex': 'male', 'bmi': 31.35, 'children': 0, 'smoker': 'no', 'region': 'southeast', 'charges': 27346.04, 'rec': 540} \n",
      "\n",
      "{'age': 54, 'sex': 'female', 'bmi': 47.41, 'children': 0, 'smoker': 'yes', 'region': 'southeast', 'charges': 63770.43, 'rec': 544} \n",
      "\n",
      "{'age': 43, 'sex': 'female', 'bmi': 46.2, 'children': 0, 'smoker': 'yes', 'region': 'southeast', 'charges': 45863.21, 'rec': 550} \n",
      "\n",
      "{'age': 47, 'sex': 'female', 'bmi': 36.63, 'children': 1, 'smoker': 'yes', 'region': 'southeast', 'charges': 42969.85, 'rec': 616} \n",
      "\n",
      "{'age': 19, 'sex': 'female', 'bmi': 33.11, 'children': 0, 'smoker': 'yes', 'region': 'southeast', 'charges': 34439.86, 'rec': 619} \n",
      "\n",
      "{'age': 64, 'sex': 'female', 'bmi': 22.99, 'children': 0, 'smoker': 'yes', 'region': 'southeast', 'charges': 27037.91, 'rec': 665} \n",
      "\n",
      "{'age': 43, 'sex': 'male', 'bmi': 38.06, 'children': 2, 'smoker': 'yes', 'region': 'southeast', 'charges': 42560.43, 'rec': 666} \n",
      "\n",
      "{'age': 44, 'sex': 'female', 'bmi': 43.89, 'children': 2, 'smoker': 'yes', 'region': 'southeast', 'charges': 46200.99, 'rec': 675} \n",
      "\n",
      "{'age': 27, 'sex': 'male', 'bmi': 31.13, 'children': 1, 'smoker': 'yes', 'region': 'southeast', 'charges': 34806.47, 'rec': 690} \n",
      "\n",
      "{'age': 41, 'sex': 'male', 'bmi': 35.75, 'children': 1, 'smoker': 'yes', 'region': 'southeast', 'charges': 40273.65, 'rec': 698} \n",
      "\n",
      "{'age': 51, 'sex': 'female', 'bmi': 38.06, 'children': 0, 'smoker': 'yes', 'region': 'southeast', 'charges': 44400.41, 'rec': 707} \n",
      "\n",
      "{'age': 30, 'sex': 'female', 'bmi': 39.05, 'children': 3, 'smoker': 'yes', 'region': 'southeast', 'charges': 40932.43, 'rec': 726} \n",
      "\n",
      "{'age': 37, 'sex': 'female', 'bmi': 38.39, 'children': 0, 'smoker': 'yes', 'region': 'southeast', 'charges': 40419.02, 'rec': 737} \n",
      "\n",
      "{'age': 18, 'sex': 'male', 'bmi': 38.17, 'children': 0, 'smoker': 'yes', 'region': 'southeast', 'charges': 36307.8, 'rec': 760} \n",
      "\n",
      "{'age': 18, 'sex': 'female', 'bmi': 42.24, 'children': 0, 'smoker': 'yes', 'region': 'southeast', 'charges': 38792.69, 'rec': 804} \n",
      "\n",
      "{'age': 56, 'sex': 'male', 'bmi': 31.79, 'children': 2, 'smoker': 'yes', 'region': 'southeast', 'charges': 43813.87, 'rec': 827} \n",
      "\n",
      "{'age': 23, 'sex': 'female', 'bmi': 32.78, 'children': 2, 'smoker': 'yes', 'region': 'southeast', 'charges': 36021.01, 'rec': 843} \n",
      "\n",
      "{'age': 57, 'sex': 'female', 'bmi': 29.81, 'children': 0, 'smoker': 'yes', 'region': 'southeast', 'charges': 27533.91, 'rec': 844} \n",
      "\n",
      "{'age': 60, 'sex': 'female', 'bmi': 32.45, 'children': 0, 'smoker': 'yes', 'region': 'southeast', 'charges': 45008.96, 'rec': 846} \n",
      "\n",
      "{'age': 48, 'sex': 'female', 'bmi': 33.11, 'children': 0, 'smoker': 'yes', 'region': 'southeast', 'charges': 40974.16, 'rec': 857} \n",
      "\n",
      "{'age': 47, 'sex': 'male', 'bmi': 38.94, 'children': 2, 'smoker': 'yes', 'region': 'southeast', 'charges': 44202.65, 'rec': 894} \n",
      "\n",
      "{'age': 60, 'sex': 'male', 'bmi': 40.92, 'children': 0, 'smoker': 'yes', 'region': 'southeast', 'charges': 48673.56, 'rec': 902} \n",
      "\n",
      "{'age': 51, 'sex': 'male', 'bmi': 42.9, 'children': 2, 'smoker': 'yes', 'region': 'southeast', 'charges': 47462.89, 'rec': 952} \n",
      "\n",
      "{'age': 54, 'sex': 'male', 'bmi': 30.8, 'children': 1, 'smoker': 'yes', 'region': 'southeast', 'charges': 41999.52, 'rec': 957} \n",
      "\n",
      "{'age': 61, 'sex': 'female', 'bmi': 33.33, 'children': 4, 'smoker': 'no', 'region': 'southeast', 'charges': 36580.28, 'rec': 1013} \n",
      "\n",
      "{'age': 22, 'sex': 'female', 'bmi': 31.02, 'children': 3, 'smoker': 'yes', 'region': 'southeast', 'charges': 35595.59, 'rec': 1022} \n",
      "\n",
      "{'age': 47, 'sex': 'male', 'bmi': 36.08, 'children': 1, 'smoker': 'yes', 'region': 'southeast', 'charges': 42211.14, 'rec': 1023} \n",
      "\n",
      "{'age': 55, 'sex': 'female', 'bmi': 35.2, 'children': 0, 'smoker': 'yes', 'region': 'southeast', 'charges': 44423.8, 'rec': 1032} \n",
      "\n",
      "{'age': 22, 'sex': 'male', 'bmi': 37.07, 'children': 2, 'smoker': 'yes', 'region': 'southeast', 'charges': 37484.45, 'rec': 1037} \n",
      "\n",
      "{'age': 22, 'sex': 'male', 'bmi': 52.58, 'children': 1, 'smoker': 'yes', 'region': 'southeast', 'charges': 44501.4, 'rec': 1048} \n",
      "\n",
      "{'age': 59, 'sex': 'male', 'bmi': 41.14, 'children': 1, 'smoker': 'yes', 'region': 'southeast', 'charges': 48970.25, 'rec': 1063} \n",
      "\n",
      "{'age': 37, 'sex': 'male', 'bmi': 37.07, 'children': 1, 'smoker': 'yes', 'region': 'southeast', 'charges': 39871.7, 'rec': 1071} \n",
      "\n",
      "{'age': 28, 'sex': 'male', 'bmi': 31.68, 'children': 0, 'smoker': 'yes', 'region': 'southeast', 'charges': 34672.15, 'rec': 1079} \n",
      "\n",
      "{'age': 47, 'sex': 'male', 'bmi': 36.19, 'children': 0, 'smoker': 'yes', 'region': 'southeast', 'charges': 41676.08, 'rec': 1091} \n",
      "\n",
      "{'age': 38, 'sex': 'male', 'bmi': 38.39, 'children': 3, 'smoker': 'yes', 'region': 'southeast', 'charges': 41949.24, 'rec': 1112} \n",
      "\n",
      "{'age': 25, 'sex': 'male', 'bmi': 33.33, 'children': 2, 'smoker': 'yes', 'region': 'southeast', 'charges': 36124.57, 'rec': 1118} \n",
      "\n",
      "{'age': 33, 'sex': 'male', 'bmi': 35.75, 'children': 1, 'smoker': 'yes', 'region': 'southeast', 'charges': 38282.75, 'rec': 1119} \n",
      "\n",
      "{'age': 52, 'sex': 'female', 'bmi': 24.86, 'children': 0, 'smoker': 'no', 'region': 'southeast', 'charges': 27117.99, 'rec': 1143} \n",
      "\n",
      "{'age': 43, 'sex': 'female', 'bmi': 32.56, 'children': 3, 'smoker': 'yes', 'region': 'southeast', 'charges': 40941.29, 'rec': 1153} \n",
      "\n",
      "{'age': 19, 'sex': 'male', 'bmi': 44.88, 'children': 0, 'smoker': 'yes', 'region': 'southeast', 'charges': 39722.75, 'rec': 1157} \n",
      "\n",
      "{'age': 20, 'sex': 'female', 'bmi': 24.42, 'children': 0, 'smoker': 'yes', 'region': 'southeast', 'charges': 26125.67, 'rec': 1224} \n",
      "\n",
      "{'age': 52, 'sex': 'male', 'bmi': 41.8, 'children': 2, 'smoker': 'yes', 'region': 'southeast', 'charges': 47269.85, 'rec': 1241} \n",
      "\n",
      "{'age': 64, 'sex': 'male', 'bmi': 36.96, 'children': 2, 'smoker': 'yes', 'region': 'southeast', 'charges': 49577.66, 'rec': 1242} \n",
      "\n",
      "{'age': 64, 'sex': 'male', 'bmi': 23.76, 'children': 0, 'smoker': 'yes', 'region': 'southeast', 'charges': 26926.51, 'rec': 1266} \n",
      "\n",
      "{'age': 45, 'sex': 'male', 'bmi': 30.36, 'children': 0, 'smoker': 'yes', 'region': 'southeast', 'charges': 62592.87, 'rec': 1301} \n",
      "\n",
      "{'age': 42, 'sex': 'female', 'bmi': 40.37, 'children': 2, 'smoker': 'yes', 'region': 'southeast', 'charges': 43896.38, 'rec': 1324} \n",
      "\n",
      "Northwest \n",
      "\n",
      "{'age': 60, 'sex': 'female', 'bmi': 25.84, 'children': 0, 'smoker': 'no', 'region': 'northwest', 'charges': 28923.14, 'rec': 10} \n",
      "\n",
      "{'age': 58, 'sex': 'male', 'bmi': 36.955, 'children': 2, 'smoker': 'yes', 'region': 'northwest', 'charges': 47496.49, 'rec': 56} \n",
      "\n",
      "{'age': 64, 'sex': 'male', 'bmi': 24.7, 'children': 1, 'smoker': 'no', 'region': 'northwest', 'charges': 30166.62, 'rec': 63} \n",
      "\n",
      "{'age': 57, 'sex': 'female', 'bmi': 31.16, 'children': 0, 'smoker': 'yes', 'region': 'northwest', 'charges': 43578.94, 'rec': 87} \n",
      "\n",
      "{'age': 32, 'sex': 'female', 'bmi': 17.765, 'children': 2, 'smoker': 'yes', 'region': 'northwest', 'charges': 32734.19, 'rec': 129} \n",
      "\n",
      "{'age': 46, 'sex': 'male', 'bmi': 30.495, 'children': 3, 'smoker': 'yes', 'region': 'northwest', 'charges': 40720.55, 'rec': 147} \n",
      "\n",
      "{'age': 56, 'sex': 'male', 'bmi': 33.63, 'children': 0, 'smoker': 'yes', 'region': 'northwest', 'charges': 43921.18, 'rec': 257} \n",
      "\n",
      "{'age': 19, 'sex': 'male', 'bmi': 31.92, 'children': 0, 'smoker': 'yes', 'region': 'northwest', 'charges': 33750.29, 'rec': 260} \n",
      "\n",
      "{'age': 19, 'sex': 'male', 'bmi': 36.955, 'children': 0, 'smoker': 'yes', 'region': 'northwest', 'charges': 36219.41, 'rec': 264} \n",
      "\n",
      "{'age': 31, 'sex': 'male', 'bmi': 34.39, 'children': 3, 'smoker': 'yes', 'region': 'northwest', 'charges': 38746.36, 'rec': 299} \n",
      "\n",
      "{'age': 45, 'sex': 'male', 'bmi': 36.48, 'children': 2, 'smoker': 'yes', 'region': 'northwest', 'charges': 42760.5, 'rec': 328} \n",
      "\n",
      "{'age': 50, 'sex': 'male', 'bmi': 25.365, 'children': 2, 'smoker': 'no', 'region': 'northwest', 'charges': 30284.64, 'rec': 388} \n",
      "\n",
      "{'age': 63, 'sex': 'female', 'bmi': 26.98, 'children': 0, 'smoker': 'yes', 'region': 'northwest', 'charges': 28950.47, 'rec': 420} \n",
      "\n",
      "{'age': 56, 'sex': 'male', 'bmi': 26.695, 'children': 1, 'smoker': 'yes', 'region': 'northwest', 'charges': 26109.33, 'rec': 445} \n",
      "\n",
      "{'age': 61, 'sex': 'male', 'bmi': 28.31, 'children': 1, 'smoker': 'yes', 'region': 'northwest', 'charges': 28868.66, 'rec': 476} \n",
      "\n",
      "{'age': 35, 'sex': 'female', 'bmi': 34.105, 'children': 3, 'smoker': 'yes', 'region': 'northwest', 'charges': 39983.43, 'rec': 559} \n",
      "\n",
      "{'age': 48, 'sex': 'male', 'bmi': 40.565, 'children': 2, 'smoker': 'yes', 'region': 'northwest', 'charges': 45702.02, 'rec': 570} \n",
      "\n",
      "{'age': 34, 'sex': 'female', 'bmi': 30.21, 'children': 1, 'smoker': 'yes', 'region': 'northwest', 'charges': 43943.88, 'rec': 588} \n",
      "\n",
      "{'age': 52, 'sex': 'female', 'bmi': 37.525, 'children': 2, 'smoker': 'no', 'region': 'northwest', 'charges': 33471.97, 'rec': 600} \n",
      "\n",
      "{'age': 59, 'sex': 'female', 'bmi': 23.655, 'children': 0, 'smoker': 'yes', 'region': 'northwest', 'charges': 25678.78, 'rec': 608} \n",
      "\n",
      "{'age': 44, 'sex': 'female', 'bmi': 38.95, 'children': 0, 'smoker': 'yes', 'region': 'northwest', 'charges': 42983.46, 'rec': 630} \n",
      "\n",
      "{'age': 42, 'sex': 'male', 'bmi': 28.31, 'children': 3, 'smoker': 'yes', 'region': 'northwest', 'charges': 32787.46, 'rec': 642} \n",
      "\n",
      "{'age': 40, 'sex': 'female', 'bmi': 32.775, 'children': 2, 'smoker': 'yes', 'region': 'northwest', 'charges': 40003.33, 'rec': 668} \n",
      "\n",
      "{'age': 60, 'sex': 'male', 'bmi': 31.35, 'children': 3, 'smoker': 'yes', 'region': 'northwest', 'charges': 46130.53, 'rec': 678} \n",
      "\n",
      "{'age': 40, 'sex': 'female', 'bmi': 41.42, 'children': 1, 'smoker': 'no', 'region': 'northwest', 'charges': 28476.73, 'rec': 807} \n",
      "\n",
      "{'age': 33, 'sex': 'female', 'bmi': 35.53, 'children': 0, 'smoker': 'yes', 'region': 'northwest', 'charges': 55135.4, 'rec': 820} \n",
      "\n",
      "{'age': 64, 'sex': 'female', 'bmi': 26.885, 'children': 0, 'smoker': 'yes', 'region': 'northwest', 'charges': 29330.98, 'rec': 891} \n",
      "\n",
      "{'age': 48, 'sex': 'male', 'bmi': 36.67, 'children': 1, 'smoker': 'no', 'region': 'northwest', 'charges': 28468.92, 'rec': 960} \n",
      "\n",
      "{'age': 52, 'sex': 'male', 'bmi': 36.765, 'children': 2, 'smoker': 'no', 'region': 'northwest', 'charges': 26467.1, 'rec': 965} \n",
      "\n",
      "{'age': 45, 'sex': 'female', 'bmi': 27.645, 'children': 1, 'smoker': 'no', 'region': 'northwest', 'charges': 28340.19, 'rec': 988} \n",
      "\n",
      "{'age': 21, 'sex': 'female', 'bmi': 32.68, 'children': 2, 'smoker': 'no', 'region': 'northwest', 'charges': 26018.95, 'rec': 1020} \n",
      "\n",
      "{'age': 45, 'sex': 'female', 'bmi': 30.495, 'children': 1, 'smoker': 'yes', 'region': 'northwest', 'charges': 39725.52, 'rec': 1038} \n",
      "\n",
      "{'age': 22, 'sex': 'female', 'bmi': 30.4, 'children': 0, 'smoker': 'yes', 'region': 'northwest', 'charges': 33907.55, 'rec': 1094} \n",
      "\n",
      "{'age': 53, 'sex': 'female', 'bmi': 36.86, 'children': 3, 'smoker': 'yes', 'region': 'northwest', 'charges': 46661.44, 'rec': 1123} \n",
      "\n",
      "{'age': 19, 'sex': 'female', 'bmi': 32.49, 'children': 0, 'smoker': 'yes', 'region': 'northwest', 'charges': 36898.73, 'rec': 1140} \n",
      "\n",
      "{'age': 20, 'sex': 'male', 'bmi': 35.625, 'children': 3, 'smoker': 'yes', 'region': 'northwest', 'charges': 37465.34, 'rec': 1187} \n",
      "\n",
      "{'age': 19, 'sex': 'female', 'bmi': 30.02, 'children': 0, 'smoker': 'yes', 'region': 'northwest', 'charges': 33307.55, 'rec': 1197} \n",
      "\n",
      "{'age': 52, 'sex': 'male', 'bmi': 34.485, 'children': 3, 'smoker': 'yes', 'region': 'northwest', 'charges': 60021.4, 'rec': 1231} \n",
      "\n",
      "{'age': 55, 'sex': 'male', 'bmi': 37.715, 'children': 3, 'smoker': 'no', 'region': 'northwest', 'charges': 30063.58, 'rec': 1259} \n",
      "\n",
      "{'age': 62, 'sex': 'male', 'bmi': 30.875, 'children': 3, 'smoker': 'yes', 'region': 'northwest', 'charges': 46718.16, 'rec': 1302} \n",
      "\n",
      "{'age': 61, 'sex': 'female', 'bmi': 29.07, 'children': 0, 'smoker': 'yes', 'region': 'northwest', 'charges': 29141.36, 'rec': 1338} \n",
      "\n",
      "Northeast \n",
      "\n",
      "{'age': 34, 'sex': 'female', 'bmi': 31.92, 'children': 1, 'smoker': 'yes', 'region': 'northeast', 'charges': 37701.88, 'rec': 24} \n",
      "\n",
      "{'age': 35, 'sex': 'male', 'bmi': 36.67, 'children': 1, 'smoker': 'yes', 'region': 'northeast', 'charges': 39774.28, 'rec': 39} \n",
      "\n",
      "{'age': 59, 'sex': 'male', 'bmi': 29.83, 'children': 3, 'smoker': 'yes', 'region': 'northeast', 'charges': 30184.94, 'rec': 93} \n",
      "\n",
      "{'age': 60, 'sex': 'male', 'bmi': 28.595, 'children': 0, 'smoker': 'no', 'region': 'northeast', 'charges': 30260.0, 'rec': 116} \n",
      "\n",
      "{'age': 44, 'sex': 'male', 'bmi': 31.35, 'children': 1, 'smoker': 'yes', 'region': 'northeast', 'charges': 39556.49, 'rec': 124} \n",
      "\n",
      "{'age': 34, 'sex': 'male', 'bmi': 22.42, 'children': 2, 'smoker': 'no', 'region': 'northeast', 'charges': 27375.9, 'rec': 141} \n",
      "\n",
      "{'age': 36, 'sex': 'male', 'bmi': 41.895, 'children': 3, 'smoker': 'yes', 'region': 'northeast', 'charges': 43753.34, 'rec': 186} \n",
      "\n",
      "{'age': 23, 'sex': 'female', 'bmi': 36.67, 'children': 2, 'smoker': 'yes', 'region': 'northeast', 'charges': 38511.63, 'rec': 241} \n",
      "\n",
      "{'age': 63, 'sex': 'female', 'bmi': 27.74, 'children': 0, 'smoker': 'yes', 'region': 'northeast', 'charges': 29523.17, 'rec': 245} \n",
      "\n",
      "{'age': 50, 'sex': 'male', 'bmi': 31.825, 'children': 0, 'smoker': 'yes', 'region': 'northeast', 'charges': 41097.16, 'rec': 255} \n",
      "\n",
      "{'age': 54, 'sex': 'male', 'bmi': 40.565, 'children': 3, 'smoker': 'yes', 'region': 'northeast', 'charges': 48549.18, 'rec': 282} \n",
      "\n",
      "{'age': 59, 'sex': 'female', 'bmi': 36.765, 'children': 1, 'smoker': 'yes', 'region': 'northeast', 'charges': 47896.79, 'rec': 289} \n",
      "\n",
      "{'age': 61, 'sex': 'female', 'bmi': 36.385, 'children': 1, 'smoker': 'yes', 'region': 'northeast', 'charges': 48517.56, 'rec': 331} \n",
      "\n",
      "{'age': 50, 'sex': 'male', 'bmi': 32.3, 'children': 1, 'smoker': 'yes', 'region': 'northeast', 'charges': 41919.1, 'rec': 339} \n",
      "\n",
      "{'age': 55, 'sex': 'male', 'bmi': 30.685, 'children': 0, 'smoker': 'yes', 'region': 'northeast', 'charges': 42303.69, 'rec': 382} \n",
      "\n",
      "{'age': 40, 'sex': 'male', 'bmi': 32.775, 'children': 1, 'smoker': 'yes', 'region': 'northeast', 'charges': 39125.33, 'rec': 423} \n",
      "\n",
      "{'age': 24, 'sex': 'male', 'bmi': 28.5, 'children': 0, 'smoker': 'yes', 'region': 'northeast', 'charges': 35147.53, 'rec': 477} \n",
      "\n",
      "{'age': 50, 'sex': 'female', 'bmi': 27.36, 'children': 0, 'smoker': 'no', 'region': 'northeast', 'charges': 25656.58, 'rec': 521} \n",
      "\n",
      "{'age': 62, 'sex': 'female', 'bmi': 36.86, 'children': 1, 'smoker': 'no', 'region': 'northeast', 'charges': 31620.0, 'rec': 574} \n",
      "\n",
      "{'age': 31, 'sex': 'female', 'bmi': 38.095, 'children': 1, 'smoker': 'yes', 'region': 'northeast', 'charges': 58571.07, 'rec': 578} \n",
      "\n",
      "{'age': 18, 'sex': 'male', 'bmi': 33.535, 'children': 0, 'smoker': 'yes', 'region': 'northeast', 'charges': 34617.84, 'rec': 624} \n",
      "\n",
      "{'age': 48, 'sex': 'female', 'bmi': 35.91, 'children': 1, 'smoker': 'no', 'region': 'northeast', 'charges': 26392.26, 'rec': 659} \n",
      "\n",
      "{'age': 62, 'sex': 'male', 'bmi': 32.015, 'children': 0, 'smoker': 'yes', 'region': 'northeast', 'charges': 45710.21, 'rec': 669} \n",
      "\n",
      "{'age': 53, 'sex': 'female', 'bmi': 32.3, 'children': 2, 'smoker': 'no', 'region': 'northeast', 'charges': 29186.48, 'rec': 697} \n",
      "\n",
      "{'age': 23, 'sex': 'male', 'bmi': 31.73, 'children': 3, 'smoker': 'yes', 'region': 'northeast', 'charges': 36189.1, 'rec': 739} \n",
      "\n",
      "{'age': 53, 'sex': 'male', 'bmi': 34.105, 'children': 0, 'smoker': 'yes', 'region': 'northeast', 'charges': 43254.42, 'rec': 743} \n",
      "\n",
      "{'age': 41, 'sex': 'male', 'bmi': 30.78, 'children': 3, 'smoker': 'yes', 'region': 'northeast', 'charges': 39597.41, 'rec': 829} \n",
      "\n",
      "{'age': 37, 'sex': 'female', 'bmi': 30.78, 'children': 0, 'smoker': 'yes', 'region': 'northeast', 'charges': 37270.15, 'rec': 851} \n",
      "\n",
      "{'age': 46, 'sex': 'female', 'bmi': 35.53, 'children': 0, 'smoker': 'yes', 'region': 'northeast', 'charges': 42111.66, 'rec': 853} \n",
      "\n",
      "{'age': 51, 'sex': 'female', 'bmi': 37.05, 'children': 3, 'smoker': 'yes', 'region': 'northeast', 'charges': 46255.11, 'rec': 884} \n",
      "\n",
      "{'age': 57, 'sex': 'male', 'bmi': 28.975, 'children': 0, 'smoker': 'yes', 'region': 'northeast', 'charges': 27218.44, 'rec': 887} \n",
      "\n",
      "{'age': 18, 'sex': 'male', 'bmi': 31.73, 'children': 0, 'smoker': 'yes', 'region': 'northeast', 'charges': 33732.69, 'rec': 912} \n",
      "\n",
      "{'age': 45, 'sex': 'male', 'bmi': 22.895, 'children': 0, 'smoker': 'yes', 'region': 'northeast', 'charges': 35069.37, 'rec': 918} \n",
      "\n",
      "{'age': 50, 'sex': 'male', 'bmi': 32.11, 'children': 2, 'smoker': 'no', 'region': 'northeast', 'charges': 25333.33, 'rec': 926} \n",
      "\n",
      "{'age': 44, 'sex': 'male', 'bmi': 29.735, 'children': 2, 'smoker': 'no', 'region': 'northeast', 'charges': 32108.66, 'rec': 937} \n",
      "\n",
      "{'age': 37, 'sex': 'male', 'bmi': 34.2, 'children': 1, 'smoker': 'yes', 'region': 'northeast', 'charges': 39047.29, 'rec': 948} \n",
      "\n",
      "{'age': 43, 'sex': 'male', 'bmi': 34.96, 'children': 1, 'smoker': 'yes', 'region': 'northeast', 'charges': 41034.22, 'rec': 959} \n",
      "\n",
      "{'age': 54, 'sex': 'male', 'bmi': 25.46, 'children': 1, 'smoker': 'no', 'region': 'northeast', 'charges': 25517.11, 'rec': 981} \n",
      "\n",
      "{'age': 20, 'sex': 'male', 'bmi': 30.685, 'children': 0, 'smoker': 'yes', 'region': 'northeast', 'charges': 33475.82, 'rec': 1043} \n",
      "\n",
      "{'age': 51, 'sex': 'female', 'bmi': 34.96, 'children': 2, 'smoker': 'yes', 'region': 'northeast', 'charges': 44641.2, 'rec': 1097} \n",
      "\n",
      "{'age': 23, 'sex': 'female', 'bmi': 42.75, 'children': 1, 'smoker': 'yes', 'region': 'northeast', 'charges': 40904.2, 'rec': 1125} \n",
      "\n",
      "{'age': 32, 'sex': 'male', 'bmi': 33.63, 'children': 1, 'smoker': 'yes', 'region': 'northeast', 'charges': 37607.53, 'rec': 1250} \n",
      "\n",
      "{'age': 24, 'sex': 'male', 'bmi': 31.065, 'children': 0, 'smoker': 'yes', 'region': 'northeast', 'charges': 34254.05, 'rec': 1268} \n",
      "\n",
      "{'age': 62, 'sex': 'male', 'bmi': 26.695, 'children': 0, 'smoker': 'yes', 'region': 'northeast', 'charges': 28101.33, 'rec': 1322} \n",
      "\n"
     ]
    }
   ],
   "source": [
    "regions_dict_highcharges = dict_filter(regions_dict, \"charges\", \">\", 25000)\n",
    "for key in regions_dict_highcharges:\n",
    "    print(key.title(), \"\\n\")\n",
    "    for client in regions_dict_highcharges[key]:\n",
    "        print(client, \"\\n\")"
   ]
  },
  {
   "cell_type": "markdown",
   "metadata": {},
   "source": [
    "It looks like that there are a lot of smokers among these groups of people especially in the south regions. This could pull the average numbers up in the south. Let's look closer to that. How many smokers vs. no smokers in the different regions? What's the average charges for this particular group in the different regions? What are other factors, which driving the charges of this group of people?"
   ]
  },
  {
   "cell_type": "code",
   "execution_count": 74,
   "metadata": {
    "scrolled": true
   },
   "outputs": [
    {
     "name": "stdout",
     "output_type": "stream",
     "text": [
      "The percent of smokers in the Southwest region among the people with charges > 25000:  \n",
      "\n",
      "88.1 %\n",
      "The average insurance charges:  38596.72 \n",
      "\n",
      "The percent of smokers in the Southeast region among the people with charges > 25000:  \n",
      "\n",
      "87.84 %\n",
      "The average insurance charges:  39296.3 \n",
      "\n",
      "The percent of smokers in the Northwest region among the people with charges > 25000:  \n",
      "\n",
      "75.61 %\n",
      "The average insurance charges:  36586.94 \n",
      "\n",
      "The percent of smokers in the Northeast region among the people with charges > 25000:  \n",
      "\n",
      "79.55 %\n",
      "The average insurance charges:  37174.44 \n",
      "\n"
     ]
    }
   ],
   "source": [
    "for key in regions_dict_highcharges:\n",
    "    print(\"The percent of smokers in the {} region among the people with charges > 25000: \".format(key.title()), \"\\n\")\n",
    "    smokers = 0\n",
    "    charges = 0\n",
    "    for client in regions_dict_highcharges[key]:\n",
    "        charges += client[\"charges\"]\n",
    "        if client[\"smoker\"] == \"yes\":\n",
    "            smokers += 1\n",
    "    smokers_percent = round(smokers * 100 / (len(regions_dict_highcharges[key])), 2)\n",
    "    average_charges = round(charges / len(regions_dict_highcharges[key]), 2)\n",
    "    print(smokers_percent, \"%\")\n",
    "    print(\"The average insurance charges: \", average_charges, \"\\n\")"
   ]
  },
  {
   "cell_type": "markdown",
   "metadata": {},
   "source": [
    "We can see now that in the group of the people with charges above $25000 the average insurance cost is higher in the regions with bigger percentage of smokers. So the smokers are clearly pull the charges up and skew the average data in the south region. We can hypotesise that there are more smokers in general in the South regions of the US and this could be checked later (remember, that the data above represent only the people with charges over 25 000). So to answer our first question we need to separate the influence of the smoking parameter on our charges in different regions. Therefore the initial goal and questions should be reformulated as following: <br><br>\n",
    "## Updated Goal: \n",
    "Define the most comfortable place for living in the US in terms of medical costs for non-smoking person. <br>What is the cheapest and what is the most expensive region for medical expenses for a non-smoking person?<br>\n",
    "\n",
    "Before we move into the study of the updated questions, lets see what are the other factors, which pull the costs up above 25000 for non-smoking people. "
   ]
  },
  {
   "cell_type": "code",
   "execution_count": 75,
   "metadata": {},
   "outputs": [
    {
     "name": "stdout",
     "output_type": "stream",
     "text": [
      "Southwest \n",
      "\n",
      "{'age': 55, 'sex': 'female', 'bmi': 26.8, 'children': 1, 'smoker': 'no', 'region': 'southwest', 'charges': 35160.13, 'rec': 243} \n",
      "\n",
      "{'age': 47, 'sex': 'female', 'bmi': 24.1, 'children': 1, 'smoker': 'no', 'region': 'southwest', 'charges': 26236.58, 'rec': 689} \n",
      "\n",
      "{'age': 61, 'sex': 'male', 'bmi': 36.1, 'children': 3, 'smoker': 'no', 'region': 'southwest', 'charges': 27941.29, 'rec': 771} \n",
      "\n",
      "{'age': 49, 'sex': 'female', 'bmi': 27.1, 'children': 1, 'smoker': 'no', 'region': 'southwest', 'charges': 26140.36, 'rec': 877} \n",
      "\n",
      "{'age': 59, 'sex': 'female', 'bmi': 34.8, 'children': 2, 'smoker': 'no', 'region': 'southwest', 'charges': 36910.61, 'rec': 1207} \n",
      "\n",
      "Southeast \n",
      "\n",
      "{'age': 54, 'sex': 'female', 'bmi': 31.9, 'children': 3, 'smoker': 'no', 'region': 'southeast', 'charges': 27322.73, 'rec': 139} \n",
      "\n",
      "{'age': 24, 'sex': 'female', 'bmi': 23.21, 'children': 0, 'smoker': 'no', 'region': 'southeast', 'charges': 25081.77, 'rec': 220} \n",
      "\n",
      "{'age': 52, 'sex': 'male', 'bmi': 26.4, 'children': 3, 'smoker': 'no', 'region': 'southeast', 'charges': 25992.82, 'rec': 290} \n",
      "\n",
      "{'age': 62, 'sex': 'male', 'bmi': 31.46, 'children': 1, 'smoker': 'no', 'region': 'southeast', 'charges': 27000.98, 'rec': 380} \n",
      "\n",
      "{'age': 59, 'sex': 'female', 'bmi': 36.52, 'children': 1, 'smoker': 'no', 'region': 'southeast', 'charges': 28287.9, 'rec': 444} \n",
      "\n",
      "{'age': 20, 'sex': 'male', 'bmi': 35.31, 'children': 1, 'smoker': 'no', 'region': 'southeast', 'charges': 27724.29, 'rec': 517} \n",
      "\n",
      "{'age': 53, 'sex': 'male', 'bmi': 31.35, 'children': 0, 'smoker': 'no', 'region': 'southeast', 'charges': 27346.04, 'rec': 540} \n",
      "\n",
      "{'age': 61, 'sex': 'female', 'bmi': 33.33, 'children': 4, 'smoker': 'no', 'region': 'southeast', 'charges': 36580.28, 'rec': 1013} \n",
      "\n",
      "{'age': 52, 'sex': 'female', 'bmi': 24.86, 'children': 0, 'smoker': 'no', 'region': 'southeast', 'charges': 27117.99, 'rec': 1143} \n",
      "\n",
      "Northwest \n",
      "\n",
      "{'age': 60, 'sex': 'female', 'bmi': 25.84, 'children': 0, 'smoker': 'no', 'region': 'northwest', 'charges': 28923.14, 'rec': 10} \n",
      "\n",
      "{'age': 64, 'sex': 'male', 'bmi': 24.7, 'children': 1, 'smoker': 'no', 'region': 'northwest', 'charges': 30166.62, 'rec': 63} \n",
      "\n",
      "{'age': 50, 'sex': 'male', 'bmi': 25.365, 'children': 2, 'smoker': 'no', 'region': 'northwest', 'charges': 30284.64, 'rec': 388} \n",
      "\n",
      "{'age': 52, 'sex': 'female', 'bmi': 37.525, 'children': 2, 'smoker': 'no', 'region': 'northwest', 'charges': 33471.97, 'rec': 600} \n",
      "\n",
      "{'age': 40, 'sex': 'female', 'bmi': 41.42, 'children': 1, 'smoker': 'no', 'region': 'northwest', 'charges': 28476.73, 'rec': 807} \n",
      "\n",
      "{'age': 48, 'sex': 'male', 'bmi': 36.67, 'children': 1, 'smoker': 'no', 'region': 'northwest', 'charges': 28468.92, 'rec': 960} \n",
      "\n",
      "{'age': 52, 'sex': 'male', 'bmi': 36.765, 'children': 2, 'smoker': 'no', 'region': 'northwest', 'charges': 26467.1, 'rec': 965} \n",
      "\n",
      "{'age': 45, 'sex': 'female', 'bmi': 27.645, 'children': 1, 'smoker': 'no', 'region': 'northwest', 'charges': 28340.19, 'rec': 988} \n",
      "\n",
      "{'age': 21, 'sex': 'female', 'bmi': 32.68, 'children': 2, 'smoker': 'no', 'region': 'northwest', 'charges': 26018.95, 'rec': 1020} \n",
      "\n",
      "{'age': 55, 'sex': 'male', 'bmi': 37.715, 'children': 3, 'smoker': 'no', 'region': 'northwest', 'charges': 30063.58, 'rec': 1259} \n",
      "\n",
      "Northeast \n",
      "\n",
      "{'age': 60, 'sex': 'male', 'bmi': 28.595, 'children': 0, 'smoker': 'no', 'region': 'northeast', 'charges': 30260.0, 'rec': 116} \n",
      "\n",
      "{'age': 34, 'sex': 'male', 'bmi': 22.42, 'children': 2, 'smoker': 'no', 'region': 'northeast', 'charges': 27375.9, 'rec': 141} \n",
      "\n",
      "{'age': 50, 'sex': 'female', 'bmi': 27.36, 'children': 0, 'smoker': 'no', 'region': 'northeast', 'charges': 25656.58, 'rec': 521} \n",
      "\n",
      "{'age': 62, 'sex': 'female', 'bmi': 36.86, 'children': 1, 'smoker': 'no', 'region': 'northeast', 'charges': 31620.0, 'rec': 574} \n",
      "\n",
      "{'age': 48, 'sex': 'female', 'bmi': 35.91, 'children': 1, 'smoker': 'no', 'region': 'northeast', 'charges': 26392.26, 'rec': 659} \n",
      "\n",
      "{'age': 53, 'sex': 'female', 'bmi': 32.3, 'children': 2, 'smoker': 'no', 'region': 'northeast', 'charges': 29186.48, 'rec': 697} \n",
      "\n",
      "{'age': 50, 'sex': 'male', 'bmi': 32.11, 'children': 2, 'smoker': 'no', 'region': 'northeast', 'charges': 25333.33, 'rec': 926} \n",
      "\n",
      "{'age': 44, 'sex': 'male', 'bmi': 29.735, 'children': 2, 'smoker': 'no', 'region': 'northeast', 'charges': 32108.66, 'rec': 937} \n",
      "\n",
      "{'age': 54, 'sex': 'male', 'bmi': 25.46, 'children': 1, 'smoker': 'no', 'region': 'northeast', 'charges': 25517.11, 'rec': 981} \n",
      "\n"
     ]
    }
   ],
   "source": [
    "regions_dict_highcharges_nonsmoking = dict_filter(regions_dict_highcharges, \"smoker\", \"=\", \"no\")\n",
    "for key in regions_dict_highcharges_nonsmoking:\n",
    "    print(key.title(), \"\\n\")\n",
    "    for client in regions_dict_highcharges_nonsmoking[key]:\n",
    "        print(client, \"\\n\")"
   ]
  },
  {
   "cell_type": "markdown",
   "metadata": {},
   "source": [
    "Looks like among the non-smoking category of the high cost clients the most people (except just few examples) are either older then 50  or have high bmi (>30) or both. <br>\n",
    "Therefore to distinguish between the regions average insurance charges we need to make sure we have similar distribution of bmi  and age parameters in all regions. <br>\n",
    "Let's start to look at the reformulated questions above by removing the smokers clients from our client records.\n",
    "Then we will look again at the statistical data and plots with regards to the charges distribution."
   ]
  },
  {
   "cell_type": "code",
   "execution_count": 76,
   "metadata": {},
   "outputs": [
    {
     "name": "stdout",
     "output_type": "stream",
     "text": [
      "The distribution of all the client records across the regions: \n",
      " {'southwest': 325, 'southeast': 364, 'northwest': 325, 'northeast': 324} \n",
      "\n",
      "The distribution of all the non-smoking client records across the regions: \n",
      " {'southwest': 267, 'southeast': 273, 'northwest': 267, 'northeast': 257} \n",
      "\n",
      "Percentage of smoking people in each region: \n",
      " {'southwest': '17.85%', 'southeast': '25.0%', 'northwest': '17.85%', 'northeast': '20.68%'}\n"
     ]
    }
   ],
   "source": [
    "#Print the initial distribution of all the records across the region\n",
    "print(\"The distribution of all the client records across the regions: \\n\", number_of_rec(regions_dict), \"\\n\")\n",
    "\n",
    "#Filter out the non-smoking people in the separate dictionary\n",
    "regions_dict_nonsmokers = dict_filter(regions_dict, \"smoker\", \"=\", \"no\") \n",
    "print(\"The distribution of all the non-smoking client records across the regions: \\n\", \n",
    "      number_of_rec(regions_dict_nonsmokers), \"\\n\")\n",
    "\n",
    "def print_dict(dict, rec_num):\n",
    "    for key in dict.keys():\n",
    "        print(key.title(), \"\\n\")\n",
    "        i = 0\n",
    "        for client in dict[key]:\n",
    "            if i < rec_num:\n",
    "                print(client, \"\\n\")\n",
    "                i += 1\n",
    "            else:\n",
    "                break\n",
    "\n",
    "#Let's check the percentage of non-smokers in each region\n",
    "smokers_perc = {}\n",
    "regions_dict_num = number_of_rec(regions_dict)\n",
    "regions_dict_nonsmokers_num = number_of_rec(regions_dict_nonsmokers)\n",
    "\n",
    "for key in regions_dict_num.keys():\n",
    "    smokers_perc[key] = str(round(100 - regions_dict_nonsmokers_num[key] * 100 / regions_dict_num[key], 2)) + \"%\"\n",
    "\n",
    "print(\"Percentage of smoking people in each region: \\n\", smokers_perc)"
   ]
  },
  {
   "cell_type": "markdown",
   "metadata": {},
   "source": [
    "The last data disproves our interrim hypotesis that there are more smoking people in all the South regions, in that regards there is more likely differentiation between the East and West regions: the East, particularly Southeast, being the most smoking regions and the West the least smoking. <br>\n",
    "We continue to study our primary question with regards to the insurance charges dependency on the region, but only for the nonsmoking people with regions_dict_nonsmokers."
   ]
  },
  {
   "cell_type": "code",
   "execution_count": 77,
   "metadata": {},
   "outputs": [
    {
     "name": "stdout",
     "output_type": "stream",
     "text": [
      "Southwest region statistical data on charges:  \n",
      "\n",
      "The mean value:  8019.28\n",
      "The median value:  7348.14\n",
      "Standard deviation value:  5489.51\n",
      "The min value:  1241.57\n",
      "The max value:  36910.61 \n",
      "\n",
      "Southeast region statistical data on charges:  \n",
      "\n",
      "The mean value:  8032.22\n",
      "The median value:  6652.53\n",
      "Standard deviation value:  6137.33\n",
      "The min value:  1121.87\n",
      "The max value:  36580.28 \n",
      "\n",
      "Northwest region statistical data on charges:  \n",
      "\n",
      "The mean value:  8556.46\n",
      "The median value:  7256.72\n",
      "Standard deviation value:  6128.55\n",
      "The min value:  1621.34\n",
      "The max value:  33471.97 \n",
      "\n",
      "Northeast region statistical data on charges:  \n",
      "\n",
      "The mean value:  9165.53\n",
      "The median value:  8342.91\n",
      "Standard deviation value:  6157.2\n",
      "The min value:  1694.8\n",
      "The max value:  32108.66 \n",
      "\n"
     ]
    },
    {
     "data": {
      "image/png": "[encoded data removed]",
      "text/plain": [
       "<Figure size 432x288 with 1 Axes>"
      ]
     },
     "metadata": {
      "needs_background": "light"
     },
     "output_type": "display_data"
    },
    {
     "data": {
      "image/png": "[encoded data removed]",
      "text/plain": [
       "<Figure size 432x288 with 1 Axes>"
      ]
     },
     "metadata": {
      "needs_background": "light"
     },
     "output_type": "display_data"
    },
    {
     "data": {
      "image/png": "[encoded data removed]",
      "text/plain": [
       "<Figure size 432x288 with 1 Axes>"
      ]
     },
     "metadata": {
      "needs_background": "light"
     },
     "output_type": "display_data"
    },
    {
     "data": {
      "image/png": "[encoded data removed]",
      "text/plain": [
       "<Figure size 432x288 with 1 Axes>"
      ]
     },
     "metadata": {
      "needs_background": "light"
     },
     "output_type": "display_data"
    }
   ],
   "source": [
    "dict_stat(regions_dict_nonsmokers, \"charges\")\n",
    "region_dist_plots(regions_dict_nonsmokers, \"charges\", range(5000, 55000, 5000))"
   ]
  },
  {
   "cell_type": "markdown",
   "metadata": {},
   "source": [
    "The new statistical analysis among the non-smoking clients suggests that the average insurance charges are indeed 5 - 15% higher in the North regions. From the distribution plots we can see that there is no significant difference or overweight in the outliers for any region. In fact it is clear that in the North regions there are more people with higher charges just within 1 standard deviation from the mean (in 10-15 thousands interval). <br>\n",
    "Now lets check the age, number of children, bmi and gender distributions in each region to make sure there is no other parameters affecting the average insurance charges apart from the regions iteself."
   ]
  },
  {
   "cell_type": "code",
   "execution_count": 78,
   "metadata": {},
   "outputs": [
    {
     "name": "stdout",
     "output_type": "stream",
     "text": [
      "Southwest region statistical data on age:  \n",
      "\n",
      "The mean value:  40.18\n",
      "The median value:  41\n",
      "Standard deviation value:  13.93\n",
      "The min value:  19\n",
      "The max value:  64 \n",
      "\n",
      "Southeast region statistical data on age:  \n",
      "\n",
      "The mean value:  38.67\n",
      "The median value:  39\n",
      "Standard deviation value:  14.21\n",
      "The min value:  18\n",
      "The max value:  64 \n",
      "\n",
      "Northwest region statistical data on age:  \n",
      "\n",
      "The mean value:  39.17\n",
      "The median value:  39\n",
      "Standard deviation value:  13.97\n",
      "The min value:  19\n",
      "The max value:  64 \n",
      "\n",
      "Northeast region statistical data on age:  \n",
      "\n",
      "The mean value:  39.54\n",
      "The median value:  40\n",
      "Standard deviation value:  14.26\n",
      "The min value:  18\n",
      "The max value:  64 \n",
      "\n"
     ]
    }
   ],
   "source": [
    "dict_stat(regions_dict_nonsmokers, \"age\")"
   ]
  },
  {
   "cell_type": "markdown",
   "metadata": {},
   "source": [
    "The age distributions in the different regions are all very close to each other with Mean, Median and Standard Deviation values!"
   ]
  },
  {
   "cell_type": "code",
   "execution_count": 79,
   "metadata": {},
   "outputs": [
    {
     "data": {
      "image/png": "[encoded data removed]",
      "text/plain": [
       "<Figure size 432x288 with 1 Axes>"
      ]
     },
     "metadata": {
      "needs_background": "light"
     },
     "output_type": "display_data"
    },
    {
     "data": {
      "image/png": "[encoded data removed]",
      "text/plain": [
       "<Figure size 432x288 with 1 Axes>"
      ]
     },
     "metadata": {
      "needs_background": "light"
     },
     "output_type": "display_data"
    },
    {
     "data": {
      "image/png": "[encoded data removed]",
      "text/plain": [
       "<Figure size 432x288 with 1 Axes>"
      ]
     },
     "metadata": {
      "needs_background": "light"
     },
     "output_type": "display_data"
    },
    {
     "data": {
      "image/png": "[encoded data removed]",
      "text/plain": [
       "<Figure size 432x288 with 1 Axes>"
      ]
     },
     "metadata": {
      "needs_background": "light"
     },
     "output_type": "display_data"
    }
   ],
   "source": [
    "region_dist_plots(regions_dict_nonsmokers, \"children\", range(0, 7, 1))"
   ]
  },
  {
   "cell_type": "markdown",
   "metadata": {},
   "source": [
    "The distribution of the number of children for non-smoking people is fairly equal between the regions and should not affect the average charges."
   ]
  },
  {
   "cell_type": "code",
   "execution_count": 80,
   "metadata": {},
   "outputs": [
    {
     "name": "stdout",
     "output_type": "stream",
     "text": [
      "Southwest region statistical data on bmi:  \n",
      "\n",
      "The mean value:  30.51\n",
      "The median value:  30.2\n",
      "Standard deviation value:  5.75\n",
      "The min value:  17.4\n",
      "The max value:  46.7 \n",
      "\n",
      "Southeast region statistical data on bmi:  \n",
      "\n",
      "The mean value:  33.44\n",
      "The median value:  33.33\n",
      "Standard deviation value:  6.3\n",
      "The min value:  20.35\n",
      "The max value:  53.13 \n",
      "\n",
      "Northwest region statistical data on bmi:  \n",
      "\n",
      "The mean value:  29.21\n",
      "The median value:  29.36\n",
      "Standard deviation value:  5.23\n",
      "The min value:  17.39\n",
      "The max value:  42.94 \n",
      "\n",
      "Northeast region statistical data on bmi:  \n",
      "\n",
      "The mean value:  29.33\n",
      "The median value:  28.88\n",
      "Standard deviation value:  5.87\n",
      "The min value:  15.96\n",
      "The max value:  48.07 \n",
      "\n"
     ]
    },
    {
     "data": {
      "image/png": "[encoded data removed]",
      "text/plain": [
       "<Figure size 432x288 with 1 Axes>"
      ]
     },
     "metadata": {
      "needs_background": "light"
     },
     "output_type": "display_data"
    },
    {
     "data": {
      "image/png": "[encoded data removed]",
      "text/plain": [
       "<Figure size 432x288 with 1 Axes>"
      ]
     },
     "metadata": {
      "needs_background": "light"
     },
     "output_type": "display_data"
    },
    {
     "data": {
      "image/png": "[encoded data removed]",
      "text/plain": [
       "<Figure size 432x288 with 1 Axes>"
      ]
     },
     "metadata": {
      "needs_background": "light"
     },
     "output_type": "display_data"
    },
    {
     "data": {
      "image/png": "[encoded data removed]",
      "text/plain": [
       "<Figure size 432x288 with 1 Axes>"
      ]
     },
     "metadata": {
      "needs_background": "light"
     },
     "output_type": "display_data"
    }
   ],
   "source": [
    "dict_stat(regions_dict_nonsmokers, \"bmi\")\n",
    "region_dist_plots(regions_dict_nonsmokers, \"bmi\", range(15, 60, 5))"
   ]
  },
  {
   "cell_type": "markdown",
   "metadata": {},
   "source": [
    "Here we can see that the average bmi's of Northeast, Northwest and Southwest regions are pretty close to each other. It is worthnoting that for the common height range of 1.65cm to 1.85cm one bmi unit corresponds to about 3 kg of weight in absolute numbers, which is not a big difference. <br> It is clear that the average bmi in the Southeast region is 10-14% higher than in other regions. And despite that fact the average insurance charges in Southeast are comparable with Southwest and 6-12% lower than in the North regions. So for the particular person with the given bmi and other parameters fixed the cheapest region to buy the insurance should be Southeast."
   ]
  },
  {
   "cell_type": "code",
   "execution_count": 81,
   "metadata": {},
   "outputs": [
    {
     "name": "stdout",
     "output_type": "stream",
     "text": [
      "Percentage of men gender in each region: \n",
      " {'southwest': '47.19%', 'southeast': '49.08%', 'northwest': '49.44%', 'northeast': '48.64%'}\n"
     ]
    }
   ],
   "source": [
    "#Checking the gender in different regions.\n",
    "regions_dict_nonsmokers_men = dict_filter(regions_dict_nonsmokers, \"sex\", \"=\", \"male\")\n",
    "\n",
    "men_perc = {}\n",
    "regions_dict_nonsmokers_men_num = number_of_rec(regions_dict_nonsmokers_men)\n",
    "regions_dict_nonsmokers_num = number_of_rec(regions_dict_nonsmokers)\n",
    "\n",
    "for key in regions_dict_nonsmokers_num.keys():\n",
    "    men_perc[key] = str(round(regions_dict_nonsmokers_men_num[key] * 100 / regions_dict_nonsmokers_num[key], 2)) + \"%\"\n",
    "\n",
    "print(\"Percentage of men gender in each region: \\n\", men_perc)"
   ]
  },
  {
   "cell_type": "markdown",
   "metadata": {},
   "source": [
    "The gender distribution among the regions is fairly equal, apart from the bigger difference in the Southwest region. So this data should not affect our conclusion about the higher insurance charges in the North regions for non-smoking clients. <br>\n",
    "In fact the other questions could be asked at this point regarding the same average charges in the Southeast and Southwest regions, given that the Southeast has the higher average bmi and the Southwest has lower percentage  of the men. Does these two parameters compensate each other? That is, does the 2% percent higher women population in the Southwest drives the charges up to be equal to Southeast with its 10% higher average bmi? How does the bmi depends on the gender? Are men tend to have higher bmi, than women? This interesting questions could be investigated in the separate projects. <br>\n",
    "Now to complete the analysis, let's have a quick look over charges and other parameters distribution for the smoking people across the different regions."
   ]
  },
  {
   "cell_type": "code",
   "execution_count": 82,
   "metadata": {},
   "outputs": [
    {
     "name": "stdout",
     "output_type": "stream",
     "text": [
      "The distribution of all the smoking client records across the regions: \n",
      " {'southwest': 58, 'southeast': 91, 'northwest': 58, 'northeast': 67} \n",
      "\n",
      "Southwest region statistical data on charges:  \n",
      "\n",
      "The mean value:  32269.06\n",
      "The median value:  35165.26\n",
      "Standard deviation value:  11270.28\n",
      "The min value:  13844.51\n",
      "The max value:  52590.83 \n",
      "\n",
      "Southeast region statistical data on charges:  \n",
      "\n",
      "The mean value:  34845.0\n",
      "The median value:  37484.45\n",
      "Standard deviation value:  11324.77\n",
      "The min value:  16577.78\n",
      "The max value:  63770.43 \n",
      "\n",
      "Northwest region statistical data on charges:  \n",
      "\n",
      "The mean value:  30192.0\n",
      "The median value:  27489.0\n",
      "Standard deviation value:  11413.83\n",
      "The min value:  14711.74\n",
      "The max value:  60021.4 \n",
      "\n",
      "Northeast region statistical data on charges:  \n",
      "\n",
      "The mean value:  29673.54\n",
      "The median value:  28101.33\n",
      "Standard deviation value:  11589.56\n",
      "The min value:  12829.46\n",
      "The max value:  58571.07 \n",
      "\n"
     ]
    }
   ],
   "source": [
    "regions_dict_smokers = dict_filter(regions_dict, \"smoker\", \"=\", \"yes\") \n",
    "print(\"The distribution of all the smoking client records across the regions: \\n\", number_of_rec(regions_dict_smokers), \"\\n\")\n",
    "dict_stat(regions_dict_smokers, \"charges\")"
   ]
  },
  {
   "cell_type": "markdown",
   "metadata": {},
   "source": [
    "It looks like for the smoking people the results are flipped over! The insurance charges are actually higher in the South regions, than in the North - the Southeast being the most expensive and the Northeast being the cheapest. <br>\n",
    "But before we confuse ourselves let's look at the other critical parameters distribution in the smokers category."
   ]
  },
  {
   "cell_type": "code",
   "execution_count": 83,
   "metadata": {},
   "outputs": [
    {
     "name": "stdout",
     "output_type": "stream",
     "text": [
      "Southwest region statistical data on age:  \n",
      "\n",
      "The mean value:  36.1\n",
      "The median value:  33.5\n",
      "Standard deviation value:  13.74\n",
      "The min value:  19\n",
      "The max value:  64 \n",
      "\n",
      "Southeast region statistical data on age:  \n",
      "\n",
      "The mean value:  39.74\n",
      "The median value:  42\n",
      "Standard deviation value:  14.07\n",
      "The min value:  18\n",
      "The max value:  64 \n",
      "\n",
      "Northwest region statistical data on age:  \n",
      "\n",
      "The mean value:  39.33\n",
      "The median value:  42.0\n",
      "Standard deviation value:  14.55\n",
      "The min value:  19\n",
      "The max value:  64 \n",
      "\n",
      "Northeast region statistical data on age:  \n",
      "\n",
      "The mean value:  38.24\n",
      "The median value:  39\n",
      "Standard deviation value:  13.35\n",
      "The min value:  18\n",
      "The max value:  63 \n",
      "\n"
     ]
    }
   ],
   "source": [
    "dict_stat(regions_dict_smokers, \"age\")"
   ]
  },
  {
   "cell_type": "code",
   "execution_count": 67,
   "metadata": {},
   "outputs": [
    {
     "name": "stdout",
     "output_type": "stream",
     "text": [
      "Southwest region statistical data on bmi:  \n",
      "\n",
      "The mean value:  31.01\n",
      "The median value:  31.35\n",
      "Standard deviation value:  5.42\n",
      "The min value:  18.3\n",
      "The max value:  47.6 \n",
      "\n",
      "Southeast region statistical data on bmi:  \n",
      "\n",
      "The mean value:  33.1\n",
      "The median value:  33.11\n",
      "Standard deviation value:  7.02\n",
      "The min value:  19.8\n",
      "The max value:  52.58 \n",
      "\n",
      "Northwest region statistical data on bmi:  \n",
      "\n",
      "The mean value:  29.14\n",
      "The median value:  28.31\n",
      "Standard deviation value:  4.73\n",
      "The min value:  17.77\n",
      "The max value:  40.56 \n",
      "\n",
      "Northeast region statistical data on bmi:  \n",
      "\n",
      "The mean value:  28.57\n",
      "The median value:  28.5\n",
      "Standard deviation value:  6.21\n",
      "The min value:  17.2\n",
      "The max value:  42.75 \n",
      "\n"
     ]
    },
    {
     "data": {
      "image/png": "[encoded data removed]",
      "text/plain": [
       "<Figure size 432x288 with 1 Axes>"
      ]
     },
     "metadata": {
      "needs_background": "light"
     },
     "output_type": "display_data"
    },
    {
     "data": {
      "image/png": "[encoded data removed]",
      "text/plain": [
       "<Figure size 432x288 with 1 Axes>"
      ]
     },
     "metadata": {
      "needs_background": "light"
     },
     "output_type": "display_data"
    },
    {
     "data": {
      "image/png": "[encoded data removed]",
      "text/plain": [
       "<Figure size 432x288 with 1 Axes>"
      ]
     },
     "metadata": {
      "needs_background": "light"
     },
     "output_type": "display_data"
    },
    {
     "data": {
      "image/png": "[encoded data removed]",
      "text/plain": [
       "<Figure size 432x288 with 1 Axes>"
      ]
     },
     "metadata": {
      "needs_background": "light"
     },
     "output_type": "display_data"
    }
   ],
   "source": [
    "dict_stat(regions_dict_smokers, \"bmi\")\n",
    "region_dist_plots(regions_dict_smokers, \"bmi\", range(15, 60, 5))"
   ]
  },
  {
   "cell_type": "markdown",
   "metadata": {},
   "source": [
    "We can see now that in terms of the average \"age\" distribution among the smokers in the Southwest region is about 8% younger than the other regions. In terms of bmi the distribution is very similar to the non-smokers  - 7% higher in Southwest and 10% higher in Southeast, than in the North regions. But unlike with the non-smoking clients, the charges in both South regions are actually higher than in the North, despite the much lower average \"age\" in Southwest. <br> What does it tell to us? With the similar bmi distribution among the non-smoking people, the charges on the South were less. We can hypotesise that the high bmi accompanied by the smoking status has the multiplicative effect for the charges! In other words the smoking person with high bmi could pay more, than separate smoker with low bmi and separate non-smoker with high bmi alltogether. <br>\n",
    "With regards to our project goal it does not look feasible at this point to destinguish the effect of the particluare region on the insurance charges for the smoking people, because of the skew caused by the higher bmi in the South. So we can not say which region would be cheaper in average for the smoking person with the available data set."
   ]
  },
  {
   "cell_type": "markdown",
   "metadata": {},
   "source": [
    "## Conclusion"
   ]
  },
  {
   "cell_type": "markdown",
   "metadata": {},
   "source": [
    "We started our analysis with the question about the influence of the particular regions on the insurance charges. We have tried to establish the cheapest and the most expensive region in terms of medical insurance cost. <br><br>\n",
    "During the analysis we have found that the smoking attribute have significant influence on the charges in the different regions. Therefore we had to separate the smokers from the non-smokers and consider them separately with regards to our question.<br><br>\n",
    "For the non-smoking people the result of the analysis is quite conclusive: <br><br>\n",
    "The non-smoking person with the given age, bmi and number of children will have the lowest insurance charges in Southeast. Although the difference between Southeast and Southwest is not that big and in fact difficult to establish because of the skew in Southeast, due to much higher average bmi. The most expensive region will be the Northwest with 14% higher charges in average.\n",
    "<br><br>\n",
    "For the smoking people the results are not decisive, because of the bigger influence of the bmi values. It looks like the same average bmi skew in the South regions combined with the smoking status drives the regional prices there and it is not feasible to quantitavely describe that influence  with the given data set. \n",
    "\n",
    "\n"
   ]
  },
  {
   "cell_type": "code",
   "execution_count": null,
   "metadata": {},
   "outputs": [],
   "source": []
  }
 ],
 "metadata": {
  "kernelspec": {
   "display_name": "Python 3",
   "language": "python",
   "name": "python3"
  },
  "language_info": {
   "codemirror_mode": {
    "name": "ipython",
    "version": 3
   },
   "file_extension": ".py",
   "mimetype": "text/x-python",
   "name": "python",
   "nbconvert_exporter": "python",
   "pygments_lexer": "ipython3",
   "version": "3.8.7"
  }
 },
 "nbformat": 4,
 "nbformat_minor": 4
}
